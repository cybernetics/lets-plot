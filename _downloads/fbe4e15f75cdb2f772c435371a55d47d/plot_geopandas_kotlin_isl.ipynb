{
  "cells": [
    {
      "cell_type": "code",
      "execution_count": null,
      "metadata": {
        "collapsed": false
      },
      "outputs": [],
      "source": [
        "%matplotlib inline"
      ]
    },
    {
      "cell_type": "markdown",
      "metadata": {},
      "source": [
        "\n# Inset Map of Kotlin Island\n\nKotlin island is situated in the Gulf of Finland and is one of the\ndistricts of the city of Saint Petersburg in Russia.\n\nThis example shows how *Lets-Plot* *GeoPandas* integration can help to\nbuild an inset map of Kotlin island.\n"
      ]
    },
    {
      "cell_type": "code",
      "execution_count": null,
      "metadata": {
        "collapsed": false
      },
      "outputs": [],
      "source": [
        ""
      ]
    },
    {
      "cell_type": "markdown",
      "metadata": {},
      "source": [
        "`The geodata is provided by \u00a9 OpenStreetMap contributors and is made\navailable here under the Open Database License\n(ODbL) <https://www.openstreetmap.org/copyright>`__.\n\n"
      ]
    },
    {
      "cell_type": "code",
      "execution_count": null,
      "metadata": {
        "collapsed": false
      },
      "outputs": [],
      "source": [
        "import requests\nimport pandas as pd\nimport geopandas as gpd\nfrom shapely.geometry import Point, shape, box\n\nfrom lets_plot import *\nLetsPlot.setup_html()"
      ]
    },
    {
      "cell_type": "code",
      "execution_count": null,
      "metadata": {
        "collapsed": false
      },
      "outputs": [],
      "source": [
        "def osm_boundaries(osm_id):\n    requests.get('http://polygons.openstreetmap.fr/?id={0}'.format(osm_id))\n    response = requests.get('http://polygons.openstreetmap.fr/get_geojson.py?id={0}&params=0'.format(osm_id))\n    return gpd.GeoDataFrame(geometry=[ shape(response.json()['geometries'][0]) ])"
      ]
    },
    {
      "cell_type": "markdown",
      "metadata": {},
      "source": [
        "## Load boundaries of St.-Petersburg districts from OSM to GeoPandas *GeoDataFrame*.\n\n"
      ]
    },
    {
      "cell_type": "code",
      "execution_count": null,
      "metadata": {
        "collapsed": false
      },
      "outputs": [],
      "source": [
        "spb_districts_ids = [1115082, 1114193, 1114252, 1114354, 1114806, 1114809, 337424, 1114895, 363103, 1115366, 338636, 368287, 1114905, 367375, 1115367, 338635, 369514, 1114902]\nspb_gdf = pd.concat([osm_boundaries(osm_id) for osm_id in spb_districts_ids])"
      ]
    },
    {
      "cell_type": "markdown",
      "metadata": {},
      "source": [
        "## Create a map showing all the districts of St.-Petersburg.\nThis map will become an **inset map**. The red rectangle indicates the\nbounds of the future **main map**.\n\n"
      ]
    },
    {
      "cell_type": "code",
      "execution_count": null,
      "metadata": {
        "collapsed": false
      },
      "outputs": [],
      "source": [
        "kotlin_bbox = [29.63, 59.965, 29.815, 60.035]\nkotlin_rect = dict(zip(['xmin', 'ymin', 'xmax', 'ymax'], kotlin_bbox))"
      ]
    },
    {
      "cell_type": "code",
      "execution_count": null,
      "metadata": {
        "collapsed": false
      },
      "outputs": [],
      "source": [
        "spb_plot = ggplot() + \\\n    geom_rect(map=gpd.GeoDataFrame(geometry=[box(*spb_gdf.geometry.total_bounds)]), color='black', fill='white') + \\\n    geom_polygon(map=spb_gdf, color='#a1d99b', fill='#f7fcf5') + \\\n    geom_rect(**kotlin_rect, color='red', alpha=0) + \\\n    geom_text(label='Saint Petersburg', x=30.334445, y=59.934294, color='black', size=6) + \\\n    theme(legend_position='none', axis_title='blank', axis_text='blank', axis_ticks='blank', axis_line='blank')\nspb_plot"
      ]
    },
    {
      "cell_type": "markdown",
      "metadata": {},
      "source": [
        "## Create the main map with only Kotlin island on it.\nWe use ``xlim`` and ``ylim`` parameters of the coordinate system to crop\nthe entire map containing all the districts of St.-Petersburg.\n\n"
      ]
    },
    {
      "cell_type": "code",
      "execution_count": null,
      "metadata": {
        "collapsed": false
      },
      "outputs": [],
      "source": [
        "# GeoDataFrame containing names and coordinates of some tourist attractions to show on the main map.\nplaces_gdf = gpd.GeoDataFrame({\n    'name' : [\n        'Kronstadt Naval Cathedral',\n        'Kronstadt History Museum',\n        'Kronstadt Naval Museum',\n        'City Russian Cemetery',\n        'Kronstadt Lutheran Cemetery',\n        'Vladimir Church',\n    ],\n    'type' : ['church', 'museum', 'museum', 'cemetery', 'cemetery', 'church'],\n    'geometry' : [\n        Point(29.777455, 59.991744),\n        Point(29.791317, 59.986777),\n        Point(29.763422, 59.996108),\n        Point(29.706130, 60.019788),\n        Point(29.749861, 60.002212),\n        Point(29.766254, 59.998515),\n    ],\n})"
      ]
    },
    {
      "cell_type": "code",
      "execution_count": null,
      "metadata": {
        "collapsed": false
      },
      "outputs": [],
      "source": [
        "# Cut-out the Kotlin area and add layes with text and points of interest.\nkotlin_plot = ggplot() + \\\n    geom_rect(**kotlin_rect, fill='#aadaff', alpha=0.2) + \\\n    geom_polygon(map=spb_gdf, color='#31a354', fill='#e5f5e0') + \\\n    geom_point(aes(color='type', shape='type'), data=places_gdf, size=5) + \\\n    geom_text(aes(label='name'), data=places_gdf, hjust='right', position=position_nudge(x=-.002)) + \\\n    geom_text(label='Kotlin Isl.', x=29.725, y=60.011, color='#31a354', size=13, fontface='italic') + \\\n    geom_text(label='Gulf of Finland', x=29.665, y=60.002, color='#578bcc', size=11, fontface='italic') + \\\n    coord_cartesian(xlim=kotlin_bbox[0::2], ylim=kotlin_bbox[1::2]) + \\\n    ggtitle('Tourist attractions on Kotlin island') + \\\n    theme(legend_position=(0.2, 0.2), axis_title='blank', axis_text='blank', axis_ticks='blank', axis_line='blank')\nkotlin_plot"
      ]
    },
    {
      "cell_type": "markdown",
      "metadata": {},
      "source": [
        "## Finally, use *GGBunch* to show these two maps together.\n\n"
      ]
    },
    {
      "cell_type": "code",
      "execution_count": null,
      "metadata": {
        "collapsed": false
      },
      "outputs": [],
      "source": [
        "bunch = GGBunch()\nbunch.add_plot(kotlin_plot, 0, 0, 800, 600)\nbunch.add_plot(spb_plot, 600, 25, 200, 150)\nbunch"
      ]
    }
  ],
  "metadata": {
    "kernelspec": {
      "display_name": "Python 3",
      "language": "python",
      "name": "python3"
    },
    "language_info": {
      "codemirror_mode": {
        "name": "ipython",
        "version": 3
      },
      "file_extension": ".py",
      "mimetype": "text/x-python",
      "name": "python",
      "nbconvert_exporter": "python",
      "pygments_lexer": "ipython3",
      "version": "3.7.8"
    }
  },
  "nbformat": 4,
  "nbformat_minor": 0
}